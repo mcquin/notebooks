{
 "cells": [
  {
   "cell_type": "code",
   "execution_count": null,
   "metadata": {},
   "outputs": [],
   "source": [
    "%matplotlib inline"
   ]
  },
  {
   "cell_type": "code",
   "execution_count": null,
   "metadata": {},
   "outputs": [],
   "source": [
    "FEATURES = \"features.npy\"  # Path to feature matrix (M, N)\n",
    "LABELS = \"labels.npy\"      # Path to labels, for visualization (M,)"
   ]
  },
  {
   "cell_type": "code",
   "execution_count": null,
   "metadata": {},
   "outputs": [],
   "source": [
    "import numpy\n",
    "\n",
    "\n",
    "X = numpy.load(FEATURES)\n",
    "\n",
    "Y = numpy.load(LABELS)"
   ]
  },
  {
   "cell_type": "markdown",
   "metadata": {},
   "source": [
    "## PCA"
   ]
  },
  {
   "cell_type": "code",
   "execution_count": null,
   "metadata": {},
   "outputs": [],
   "source": [
    "N_COMPONENTS = 50     # Feature dimension after PCA\n",
    "SCALE = False         # Center and scale features before PCA, optional"
   ]
  },
  {
   "cell_type": "code",
   "execution_count": null,
   "metadata": {},
   "outputs": [],
   "source": [
    "import sklearn.decomposition\n",
    "import sklearn.preprocessing\n",
    "\n",
    "\n",
    "pca = sklearn.decomposition.PCA(n_components=N_COMPONENTS, svd_solver=\"full\")\n",
    "\n",
    "if SCALE:\n",
    "    X_scaled = sklearn.preprocessing.scale(X)\n",
    "else:\n",
    "    X_scaled = X\n",
    "    \n",
    "pca.fit(X_scaled)\n",
    "\n",
    "X_pca = pca.transform(X_scaled)"
   ]
  },
  {
   "cell_type": "markdown",
   "metadata": {},
   "source": [
    "## tSNE"
   ]
  },
  {
   "cell_type": "code",
   "execution_count": null,
   "metadata": {},
   "outputs": [],
   "source": [
    "# Parameters for tSNE. See documentation for details:\n",
    "#\n",
    "# http://scikit-learn.org/stable/modules/generated/sklearn.manifold.TSNE.html\n",
    "\n",
    "OPTIONS = {\n",
    "    \"angle\": 0.5,\n",
    "    \"early_exaggeration\": 12,\n",
    "    \"init\": \"random\",\n",
    "    \"learning_rate\": 200.0,\n",
    "    \"method\": \"barnes_hut\",\n",
    "    \"metric\": \"euclidean\",\n",
    "    \"min_grad_norm\": 1e-7,\n",
    "    \"n_components\": 2,\n",
    "    \"n_iter\": 1000,\n",
    "    \"n_iter_without_progress\": 300,\n",
    "    \"perplexity\": 30,\n",
    "    \"random_state\": numpy.random.randint(256),\n",
    "    \"verbose\": 0\n",
    "}"
   ]
  },
  {
   "cell_type": "code",
   "execution_count": null,
   "metadata": {},
   "outputs": [],
   "source": [
    "from sklearn import manifold\n",
    "\n",
    "\n",
    "tsne = manifold.TSNE(**OPTIONS)\n",
    "\n",
    "%time tsne.fit_transform(X_pca)"
   ]
  },
  {
   "cell_type": "markdown",
   "metadata": {},
   "source": [
    "## Visualize"
   ]
  },
  {
   "cell_type": "code",
   "execution_count": null,
   "metadata": {},
   "outputs": [],
   "source": [
    "import pandas\n",
    "\n",
    "\n",
    "df = pandas.DataFrame(data=Z, columns=[\"V1\", \"V2\"])\n",
    "\n",
    "df.insert(0, \"label\", pandas.Series(Y, index=df.index))"
   ]
  },
  {
   "cell_type": "code",
   "execution_count": null,
   "metadata": {},
   "outputs": [],
   "source": [
    "import ggplot\n",
    "\n",
    "\n",
    "ggplot.ggplot(df, ggplot.aes(\"V1\", \"V2\", color=\"label\")) + \\\n",
    "    ggplot.geom_point()"
   ]
  }
 ],
 "metadata": {
  "kernelspec": {
   "display_name": "Python 3",
   "language": "python",
   "name": "python3"
  },
  "language_info": {
   "codemirror_mode": {
    "name": "ipython",
    "version": 3
   },
   "file_extension": ".py",
   "mimetype": "text/x-python",
   "name": "python",
   "nbconvert_exporter": "python",
   "pygments_lexer": "ipython3",
   "version": "3.6.2"
  }
 },
 "nbformat": 4,
 "nbformat_minor": 2
}
