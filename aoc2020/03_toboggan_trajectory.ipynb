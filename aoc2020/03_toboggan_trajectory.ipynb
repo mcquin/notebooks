{
 "cells": [
  {
   "cell_type": "code",
   "execution_count": null,
   "metadata": {},
   "outputs": [],
   "source": [
    "with open(\"data/03_toboggan.txt\", \"r\") as f:\n",
    "    data = f.readlines()\n",
    "    \n",
    "data = [line.strip() for line in data]"
   ]
  },
  {
   "cell_type": "code",
   "execution_count": null,
   "metadata": {},
   "outputs": [],
   "source": [
    "TREE_CHAR = \"#\""
   ]
  },
  {
   "cell_type": "code",
   "execution_count": null,
   "metadata": {},
   "outputs": [],
   "source": [
    "def count_trees_on_path(tmap, move):\n",
    "    r_move, d_move = move\n",
    "    \n",
    "    r_pos, r_max = 0, len(tmap[0])\n",
    "    d_pos, d_max = 0, len(tmap)\n",
    "    \n",
    "    tree_count = 0\n",
    "    \n",
    "    while d_pos < d_max:\n",
    "        if tmap[d_pos][r_pos] == TREE_CHAR:\n",
    "            tree_count += 1\n",
    "            \n",
    "        d_pos += d_move\n",
    "        r_pos += r_move\n",
    "        r_pos %= r_max\n",
    "        \n",
    "    return tree_count"
   ]
  },
  {
   "cell_type": "code",
   "execution_count": null,
   "metadata": {},
   "outputs": [],
   "source": [
    "count_trees_on_path(data, (3, 1))"
   ]
  },
  {
   "cell_type": "code",
   "execution_count": null,
   "metadata": {},
   "outputs": [],
   "source": [
    "moves = [(1, 1), (3, 1), (5, 1), (7, 1), (1, 2)]\n",
    "\n",
    "result = 1\n",
    "for move in moves:\n",
    "    result *= count_trees_on_path(data, move)\n",
    "    \n",
    "result"
   ]
  },
  {
   "cell_type": "code",
   "execution_count": null,
   "metadata": {},
   "outputs": [],
   "source": []
  }
 ],
 "metadata": {
  "kernelspec": {
   "display_name": "Python 3",
   "language": "python",
   "name": "python3"
  },
  "language_info": {
   "codemirror_mode": {
    "name": "ipython",
    "version": 3
   },
   "file_extension": ".py",
   "mimetype": "text/x-python",
   "name": "python",
   "nbconvert_exporter": "python",
   "pygments_lexer": "ipython3",
   "version": "3.6.8"
  }
 },
 "nbformat": 4,
 "nbformat_minor": 4
}
