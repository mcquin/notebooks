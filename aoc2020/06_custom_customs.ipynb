{
 "cells": [
  {
   "cell_type": "code",
   "execution_count": null,
   "metadata": {},
   "outputs": [],
   "source": [
    "with open(\"data/05_customs_answers.txt\", \"r\") as f:\n",
    "    answers = f.readlines()\n",
    "    \n",
    "answers = [answer.strip() for answer in answers]"
   ]
  },
  {
   "cell_type": "code",
   "execution_count": null,
   "metadata": {},
   "outputs": [],
   "source": [
    "def count_anyone(answers):\n",
    "    group_answers = set()\n",
    "    count = 0\n",
    "\n",
    "    for answer in answers:\n",
    "        if answer == \"\":\n",
    "            count += len(group_answers)\n",
    "            group_answers = set()\n",
    "        else:    \n",
    "            group_answers = group_answers.union(set(answer))\n",
    "\n",
    "    count += len(group_answers)\n",
    "    return count"
   ]
  },
  {
   "cell_type": "code",
   "execution_count": null,
   "metadata": {},
   "outputs": [],
   "source": [
    "count_anyone(answers)"
   ]
  },
  {
   "cell_type": "code",
   "execution_count": null,
   "metadata": {},
   "outputs": [],
   "source": [
    "def count_everyone(answers):\n",
    "    group_answers = set()\n",
    "    count = 0\n",
    "    new_group = True\n",
    "    \n",
    "    for answer in answers:\n",
    "        if new_group:\n",
    "            group_answers = set(answer)\n",
    "            new_group = False\n",
    "        elif answer == \"\":\n",
    "            count += len(group_answers)\n",
    "            group_answers = set()\n",
    "            new_group = True\n",
    "        else:\n",
    "            group_answers = group_answers.intersection(set(answer))\n",
    "            \n",
    "    count += len(group_answers)\n",
    "    return count"
   ]
  },
  {
   "cell_type": "code",
   "execution_count": null,
   "metadata": {},
   "outputs": [],
   "source": [
    "count_everyone(answers)"
   ]
  },
  {
   "cell_type": "code",
   "execution_count": null,
   "metadata": {},
   "outputs": [],
   "source": []
  }
 ],
 "metadata": {
  "kernelspec": {
   "display_name": "Python 3",
   "language": "python",
   "name": "python3"
  },
  "language_info": {
   "codemirror_mode": {
    "name": "ipython",
    "version": 3
   },
   "file_extension": ".py",
   "mimetype": "text/x-python",
   "name": "python",
   "nbconvert_exporter": "python",
   "pygments_lexer": "ipython3",
   "version": "3.6.8"
  }
 },
 "nbformat": 4,
 "nbformat_minor": 4
}
