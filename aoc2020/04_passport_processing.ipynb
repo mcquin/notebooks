{
 "cells": [
  {
   "cell_type": "code",
   "execution_count": null,
   "metadata": {},
   "outputs": [],
   "source": [
    "import re"
   ]
  },
  {
   "cell_type": "code",
   "execution_count": null,
   "metadata": {},
   "outputs": [],
   "source": [
    "with open(\"data/04_passports.txt\", \"r\") as f:\n",
    "    lines = f.readlines()"
   ]
  },
  {
   "cell_type": "code",
   "execution_count": null,
   "metadata": {},
   "outputs": [],
   "source": [
    "YR_LEN = 4\n",
    "\n",
    "BYR_KEY = \"byr\"\n",
    "BYR_MIN = 1920\n",
    "BYR_MAX = 2002\n",
    "\n",
    "IYR_KEY = \"iyr\"\n",
    "IYR_MIN = 2010\n",
    "IYR_MAX = 2020\n",
    "\n",
    "EYR_KEY = \"eyr\"\n",
    "EYR_MIN = 2020\n",
    "EYR_MAX = 2030\n",
    "\n",
    "def validate_yr(passport, yr_key, yr_min, yr_max):\n",
    "    if yr_key not in passport:\n",
    "        return False\n",
    "    \n",
    "    yr_str = passport[yr_key]\n",
    "    if not len(yr_str) == YR_LEN:\n",
    "        return False\n",
    "\n",
    "    yr = int(yr_str)\n",
    "    return yr >= yr_min and yr <= yr_max\n",
    "\n",
    "def validate_byr(passport):\n",
    "    return validate_yr(passport, BYR_KEY, BYR_MIN, BYR_MAX)\n",
    "\n",
    "def validate_iyr(passport):\n",
    "    return validate_yr(passport, IYR_KEY, IYR_MIN, IYR_MAX)\n",
    "\n",
    "def validate_eyr(passport):\n",
    "    return validate_yr(passport, EYR_KEY, EYR_MIN, EYR_MAX)"
   ]
  },
  {
   "cell_type": "code",
   "execution_count": null,
   "metadata": {},
   "outputs": [],
   "source": [
    "HGT_KEY = \"hgt\"\n",
    "HGT_PATTERN = \"^([0-9]+)(in|cm)$\"\n",
    "\n",
    "HGT_CM = \"cm\"\n",
    "HGT_CM_MIN = 150\n",
    "HGT_CM_MAX = 193\n",
    "\n",
    "HGT_IN = \"in\"\n",
    "HGT_IN_MIN = 59\n",
    "HGT_IN_MAX = 76\n",
    "\n",
    "def validate_height(passport):\n",
    "    if HGT_KEY not in passport:\n",
    "        return False\n",
    "    \n",
    "    md = re.match(HGT_PATTERN, passport[HGT_KEY])\n",
    "    if not md:\n",
    "        return False\n",
    "    \n",
    "    units = md.group(2)\n",
    "    hgt = int(md.group(1))\n",
    "    if units == HGT_CM:\n",
    "        return hgt >= HGT_CM_MIN and hgt <= HGT_CM_MAX\n",
    "    \n",
    "    return hgt >= HGT_IN_MIN and hgt <= HGT_IN_MAX"
   ]
  },
  {
   "cell_type": "code",
   "execution_count": null,
   "metadata": {},
   "outputs": [],
   "source": [
    "HCL_KEY = \"hcl\"\n",
    "HCL_PATTERN = \"^\\#[0-9a-f]{6}$\"\n",
    "\n",
    "def validate_hair_color(passport):\n",
    "    if HCL_KEY not in passport:\n",
    "        return False\n",
    "\n",
    "    md = re.match(HCL_PATTERN, passport[HCL_KEY])\n",
    "    return md is not None"
   ]
  },
  {
   "cell_type": "code",
   "execution_count": null,
   "metadata": {},
   "outputs": [],
   "source": [
    "ECL_KEY = \"ecl\"\n",
    "ECL_VALUES = set([\"amb\", \"blu\", \"brn\", \"gry\", \"grn\", \"hzl\", \"oth\"])\n",
    "\n",
    "def validate_eye_color(passport):\n",
    "    if ECL_KEY not in passport:\n",
    "        return False\n",
    "    \n",
    "    return passport[ECL_KEY] in ECL_VALUES"
   ]
  },
  {
   "cell_type": "code",
   "execution_count": null,
   "metadata": {},
   "outputs": [],
   "source": [
    "PID_KEY = \"pid\"\n",
    "PID_PATTERN = \"^([0-9]{9})$\"\n",
    "\n",
    "def validate_passport_id(passport):\n",
    "    if PID_KEY not in passport:\n",
    "        return False\n",
    "    \n",
    "    return re.match(PID_PATTERN, passport[PID_KEY]) is not None"
   ]
  },
  {
   "cell_type": "code",
   "execution_count": null,
   "metadata": {},
   "outputs": [],
   "source": [
    "REQUIRED_FIELDS = set([BYR_KEY, IYR_KEY, EYR_KEY, HGT_KEY, HCL_KEY, ECL_KEY, PID_KEY])\n",
    "OPTIONAL_FIELDS = set([\"cid\"])"
   ]
  },
  {
   "cell_type": "code",
   "execution_count": null,
   "metadata": {},
   "outputs": [],
   "source": [
    "def parse_passports(lines):\n",
    "    passports = []\n",
    "    passport = {}\n",
    "\n",
    "    for line in lines:\n",
    "        if line == \"\\n\":\n",
    "            passports += [passport]\n",
    "            passport = {}\n",
    "        else:\n",
    "            parts = line.strip().split(\" \")\n",
    "            for part in parts:\n",
    "                k, v = part.split(\":\")\n",
    "                passport[k] = v\n",
    "                \n",
    "    passports += [passport]\n",
    "                \n",
    "    return passports"
   ]
  },
  {
   "cell_type": "code",
   "execution_count": null,
   "metadata": {},
   "outputs": [],
   "source": [
    "def is_valid(passport):\n",
    "    return len((REQUIRED_FIELDS - set(passport.keys())) - OPTIONAL_FIELDS) == 0"
   ]
  },
  {
   "cell_type": "code",
   "execution_count": null,
   "metadata": {},
   "outputs": [],
   "source": [
    "passports = parse_passports(lines)\n",
    "sum([is_valid(passport) for passport in passports])"
   ]
  },
  {
   "cell_type": "code",
   "execution_count": null,
   "metadata": {},
   "outputs": [],
   "source": [
    "def is_valid2(passport):\n",
    "    return is_valid(passport) and validate_byr(passport) and validate_iyr(passport) and validate_eyr(passport) and validate_height(passport) and validate_passport_id(passport) and validate_hair_color(passport) and validate_eye_color(passport)"
   ]
  },
  {
   "cell_type": "code",
   "execution_count": null,
   "metadata": {},
   "outputs": [],
   "source": [
    "sum([is_valid2(passport) for passport in passports])"
   ]
  }
 ],
 "metadata": {
  "kernelspec": {
   "display_name": "Python 3",
   "language": "python",
   "name": "python3"
  },
  "language_info": {
   "codemirror_mode": {
    "name": "ipython",
    "version": 3
   },
   "file_extension": ".py",
   "mimetype": "text/x-python",
   "name": "python",
   "nbconvert_exporter": "python",
   "pygments_lexer": "ipython3",
   "version": "3.6.8"
  }
 },
 "nbformat": 4,
 "nbformat_minor": 4
}
