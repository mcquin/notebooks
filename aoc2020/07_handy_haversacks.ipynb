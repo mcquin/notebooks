{
 "cells": [
  {
   "cell_type": "code",
   "execution_count": null,
   "metadata": {},
   "outputs": [],
   "source": [
    "import re"
   ]
  },
  {
   "cell_type": "code",
   "execution_count": null,
   "metadata": {},
   "outputs": [],
   "source": [
    "with open(\"data/07_luggage_rules.txt\", \"r\") as f:\n",
    "    rules = f.readlines()\n",
    "    \n",
    "rules = [rule.strip() for rule in rules]"
   ]
  },
  {
   "cell_type": "code",
   "execution_count": null,
   "metadata": {},
   "outputs": [],
   "source": [
    "rules[:5]"
   ]
  },
  {
   "cell_type": "code",
   "execution_count": null,
   "metadata": {},
   "outputs": [],
   "source": [
    "def parse_rule(rule):\n",
    "    md = re.match(\"([a-z]+ [a-z]+) bags contain (.*)\\.\", rule)\n",
    "    outer_color, contents = md.groups()\n",
    "    contents_dict = {}\n",
    "    \n",
    "    if contents == \"no other bags\":\n",
    "        return outer_color, contents_dict\n",
    "    \n",
    "    for count_and_color in contents.split(\", \"):\n",
    "        md = re.match(\"([0-9]) ([a-z]+ [a-z]+) bag\", count_and_color)\n",
    "        count, color = md.groups()\n",
    "        contents_dict[color] = int(count)\n",
    "        \n",
    "    return outer_color, contents_dict"
   ]
  },
  {
   "cell_type": "code",
   "execution_count": null,
   "metadata": {},
   "outputs": [],
   "source": [
    "def traverse_bags(color, bags, contained_in):\n",
    "    if color not in bags:\n",
    "        return contained_in\n",
    "    \n",
    "    for bag in bags[color]:\n",
    "        contained_in.add(bag)\n",
    "        traverse_bags(bag, bags, contained_in)\n",
    "        \n",
    "    return contained_in"
   ]
  },
  {
   "cell_type": "code",
   "execution_count": null,
   "metadata": {},
   "outputs": [],
   "source": [
    "color = \"shiny gold\""
   ]
  },
  {
   "cell_type": "code",
   "execution_count": null,
   "metadata": {},
   "outputs": [],
   "source": [
    "len(traverse_bags(color, bags, set()))"
   ]
  },
  {
   "cell_type": "code",
   "execution_count": null,
   "metadata": {},
   "outputs": [],
   "source": [
    "bags = {}\n",
    "\n",
    "for rule in rules:\n",
    "    outer_color, contents = parse_rule(rule)\n",
    "    bags[outer_color] = {}\n",
    "    \n",
    "    for inner_color, count in contents.items():\n",
    "        bags[outer_color][inner_color] = count"
   ]
  },
  {
   "cell_type": "code",
   "execution_count": null,
   "metadata": {},
   "outputs": [],
   "source": [
    "def count_bags(color, bags):\n",
    "    if not bool(bags[color]):\n",
    "        return 0\n",
    "    \n",
    "    count = 0\n",
    "    for inner_color, inner_count in bags[color].items():\n",
    "        count += inner_count * (count_bags(inner_color, bags) + 1)\n",
    "        \n",
    "    return count"
   ]
  },
  {
   "cell_type": "code",
   "execution_count": null,
   "metadata": {},
   "outputs": [],
   "source": [
    "count_bags(color, bags)"
   ]
  },
  {
   "cell_type": "code",
   "execution_count": null,
   "metadata": {},
   "outputs": [],
   "source": []
  }
 ],
 "metadata": {
  "kernelspec": {
   "display_name": "Python 3",
   "language": "python",
   "name": "python3"
  },
  "language_info": {
   "codemirror_mode": {
    "name": "ipython",
    "version": 3
   },
   "file_extension": ".py",
   "mimetype": "text/x-python",
   "name": "python",
   "nbconvert_exporter": "python",
   "pygments_lexer": "ipython3",
   "version": "3.6.8"
  }
 },
 "nbformat": 4,
 "nbformat_minor": 4
}
