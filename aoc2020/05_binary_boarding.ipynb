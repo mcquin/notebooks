{
 "cells": [
  {
   "cell_type": "code",
   "execution_count": null,
   "metadata": {},
   "outputs": [],
   "source": [
    "import re"
   ]
  },
  {
   "cell_type": "code",
   "execution_count": null,
   "metadata": {},
   "outputs": [],
   "source": [
    "with open(\"data/05_boarding_passes.txt\", \"r\") as f:\n",
    "    boarding_passes = f.readlines()\n",
    "    \n",
    "boarding_passes = [boarding_pass.strip() for boarding_pass in boarding_passes]\n",
    "boarding_passes[:5]"
   ]
  },
  {
   "cell_type": "code",
   "execution_count": null,
   "metadata": {},
   "outputs": [],
   "source": [
    "FRONT = \"F\"\n",
    "BACK = \"B\"\n",
    "\n",
    "RIGHT = \"R\"\n",
    "LEFT = \"L\"\n",
    "\n",
    "MAX_ROWS = 128\n",
    "MAX_COLS = 8\n",
    "\n",
    "PASS_PATTERN = \"^([B|F]{7})([R|L]{3})$\""
   ]
  },
  {
   "cell_type": "code",
   "execution_count": null,
   "metadata": {},
   "outputs": [],
   "source": [
    "def parse_boarding_pass(boarding_pass):\n",
    "    md = re.match(PASS_PATTERN, boarding_pass)\n",
    "    return md.group(1), md.group(2)\n",
    "    \n",
    "def find_pos(loc_str, loc_min, loc_max, low_char, high_char):\n",
    "    pos_min, pos_max = loc_min, loc_max\n",
    "    \n",
    "    for char in loc_str:\n",
    "        new_pos = pos_min + ((pos_max - pos_min) / 2)\n",
    "        \n",
    "        if char == low_char:\n",
    "            pos_max = new_pos\n",
    "        else:\n",
    "            pos_min = new_pos\n",
    "            \n",
    "    return int(pos_min)\n",
    "\n",
    "def find_row(row_loc):\n",
    "    return find_pos(row_loc, 0, MAX_ROWS, FRONT, BACK)\n",
    "\n",
    "def find_col(col_loc):\n",
    "    return find_pos(col_loc, 0, MAX_COLS, LEFT, RIGHT)\n",
    "\n",
    "def find_seat(boarding_pass):\n",
    "    row_loc, col_loc = parse_boarding_pass(boarding_pass)\n",
    "    \n",
    "    row = find_row(row_loc)\n",
    "    col = find_col(col_loc)\n",
    "    \n",
    "    return row * MAX_COLS + col"
   ]
  },
  {
   "cell_type": "code",
   "execution_count": null,
   "metadata": {},
   "outputs": [],
   "source": [
    "seats = [find_seat(boarding_pass) for boarding_pass in boarding_passes]"
   ]
  },
  {
   "cell_type": "code",
   "execution_count": null,
   "metadata": {},
   "outputs": [],
   "source": [
    "def find_missing_seat(seats):\n",
    "    seats.sort()\n",
    "    \n",
    "    min_seat = seats[0]\n",
    "    seats = [seat - min_seat for seat in seats]\n",
    "    \n",
    "    loc_min, loc_max = 0, len(seats)\n",
    "    while loc_min < loc_max - 1:\n",
    "        new_loc = int(loc_min + ((loc_max - loc_min) / 2))\n",
    "        \n",
    "        if new_loc == seats[new_loc]:\n",
    "            loc_min = new_loc\n",
    "        else:\n",
    "            loc_max = new_loc\n",
    "                \n",
    "    return new_loc + min_seat"
   ]
  },
  {
   "cell_type": "code",
   "execution_count": null,
   "metadata": {},
   "outputs": [],
   "source": [
    "find_missing_seat(seats)"
   ]
  }
 ],
 "metadata": {
  "kernelspec": {
   "display_name": "Python 3",
   "language": "python",
   "name": "python3"
  },
  "language_info": {
   "codemirror_mode": {
    "name": "ipython",
    "version": 3
   },
   "file_extension": ".py",
   "mimetype": "text/x-python",
   "name": "python",
   "nbconvert_exporter": "python",
   "pygments_lexer": "ipython3",
   "version": "3.6.8"
  }
 },
 "nbformat": 4,
 "nbformat_minor": 4
}
