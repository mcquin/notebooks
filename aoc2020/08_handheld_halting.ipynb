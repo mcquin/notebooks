{
 "cells": [
  {
   "cell_type": "code",
   "execution_count": null,
   "metadata": {},
   "outputs": [],
   "source": [
    "import re"
   ]
  },
  {
   "cell_type": "code",
   "execution_count": null,
   "metadata": {},
   "outputs": [],
   "source": [
    "INSTRUCTION = \"^(nop|acc|jmp) (-[0-9]+|\\+[0-9]+)$\""
   ]
  },
  {
   "cell_type": "code",
   "execution_count": null,
   "metadata": {},
   "outputs": [],
   "source": [
    "with open(\"data/08_instructions.txt\", \"r\") as f:\n",
    "    instructions = f.readlines()"
   ]
  },
  {
   "cell_type": "code",
   "execution_count": null,
   "metadata": {},
   "outputs": [],
   "source": [
    "instructions = [instruction.strip() for instruction in instructions]\n",
    "instructions[:5]"
   ]
  },
  {
   "cell_type": "code",
   "execution_count": null,
   "metadata": {},
   "outputs": [],
   "source": [
    "def run_program(instructions, idx, acc, has_run):\n",
    "    while idx < len(instructions) and not has_run[idx]:\n",
    "        has_run[idx] = 1\n",
    "        md = re.match(INSTRUCTION, instructions[idx])\n",
    "        op, arg = md.groups()\n",
    "        \n",
    "        if op == \"jmp\":\n",
    "            idx += int(arg)\n",
    "        else:\n",
    "            if op == \"acc\":\n",
    "                acc += int(arg)\n",
    "            idx += 1\n",
    "                        \n",
    "    return acc, idx >= len(instructions)"
   ]
  },
  {
   "cell_type": "code",
   "execution_count": null,
   "metadata": {},
   "outputs": [],
   "source": [
    "run_program(lines, 0, 0, [0] * len(lines))"
   ]
  },
  {
   "cell_type": "code",
   "execution_count": null,
   "metadata": {},
   "outputs": [],
   "source": [
    "has_run = [0] * len(instructions)\n",
    "acc, idx = 0, 0\n",
    "\n",
    "while idx < len(instructions) and not has_run[idx]:\n",
    "    md = re.match(INSTRUCTION, instructions[idx])\n",
    "    op, arg = md.groups()\n",
    "    \n",
    "    if op == \"acc\":\n",
    "        has_run[idx] = 1\n",
    "        acc += int(arg)\n",
    "        idx += 1\n",
    "    else:\n",
    "        new_instructions = instructions.copy()\n",
    "        if op == \"jmp\":\n",
    "            new_instructions[idx] = \"nop {:s}\".format(arg)\n",
    "        else:\n",
    "            new_instructions[idx] = \"jmp {:s}\".format(arg)\n",
    "        \n",
    "        res, exited = run_program(new_instructions, idx, acc, has_run.copy())\n",
    "\n",
    "        if exited:\n",
    "            acc = res\n",
    "            break\n",
    "        \n",
    "        has_run[idx] = 1\n",
    "        if op == \"jmp\":\n",
    "            idx += int(arg)\n",
    "        else:\n",
    "            idx += 1"
   ]
  },
  {
   "cell_type": "code",
   "execution_count": null,
   "metadata": {},
   "outputs": [],
   "source": [
    "acc"
   ]
  },
  {
   "cell_type": "code",
   "execution_count": null,
   "metadata": {},
   "outputs": [],
   "source": []
  }
 ],
 "metadata": {
  "kernelspec": {
   "display_name": "Python 3",
   "language": "python",
   "name": "python3"
  },
  "language_info": {
   "codemirror_mode": {
    "name": "ipython",
    "version": 3
   },
   "file_extension": ".py",
   "mimetype": "text/x-python",
   "name": "python",
   "nbconvert_exporter": "python",
   "pygments_lexer": "ipython3",
   "version": "3.6.8"
  }
 },
 "nbformat": 4,
 "nbformat_minor": 4
}
