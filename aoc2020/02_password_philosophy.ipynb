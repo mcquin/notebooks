{
 "cells": [
  {
   "cell_type": "code",
   "execution_count": null,
   "metadata": {},
   "outputs": [],
   "source": [
    "import re"
   ]
  },
  {
   "cell_type": "code",
   "execution_count": null,
   "metadata": {},
   "outputs": [],
   "source": [
    "EXP = \"([0-9]+)-([0-9]+) ([a-z]){1}: ([a-z]+)\""
   ]
  },
  {
   "cell_type": "code",
   "execution_count": null,
   "metadata": {},
   "outputs": [],
   "source": [
    "with open(\"data/02_passwords.txt\", \"r\") as f:\n",
    "    passwords = f.readlines()\n",
    "\n",
    "passwords = [password.strip() for password in passwords]"
   ]
  },
  {
   "cell_type": "code",
   "execution_count": null,
   "metadata": {},
   "outputs": [],
   "source": [
    "def is_valid(password_and_policy):\n",
    "    md = re.match(EXP, password_and_policy) \n",
    "    pmin, pmax, pchar, password = md.groups()\n",
    "    pcount = password.count(pchar)\n",
    "    return pcount >= int(pmin) and pcount <= int(pmax)"
   ]
  },
  {
   "cell_type": "code",
   "execution_count": null,
   "metadata": {},
   "outputs": [],
   "source": [
    "check_valid = [is_valid(pp) for pp in passwords]\n",
    "sum(check_valid)"
   ]
  },
  {
   "cell_type": "code",
   "execution_count": null,
   "metadata": {},
   "outputs": [],
   "source": [
    "def is_valid2(password_and_policy):\n",
    "    md = re.match(EXP, password_and_policy)\n",
    "    pfirst, psecond, pchar, password = md.groups()\n",
    "    \n",
    "    pfirst = int(pfirst) - 1\n",
    "    psecond = int(psecond) - 1\n",
    "    \n",
    "    if password[pfirst] == pchar:\n",
    "        if password[psecond] == pchar:\n",
    "            return False\n",
    "        return True\n",
    "    \n",
    "    if password[psecond] == pchar:\n",
    "        return True\n",
    "    \n",
    "    return False"
   ]
  },
  {
   "cell_type": "code",
   "execution_count": null,
   "metadata": {},
   "outputs": [],
   "source": [
    "check_valid = [is_valid2(pp) for pp in passwords]\n",
    "sum(check_valid)"
   ]
  },
  {
   "cell_type": "code",
   "execution_count": null,
   "metadata": {},
   "outputs": [],
   "source": []
  }
 ],
 "metadata": {
  "kernelspec": {
   "display_name": "Python 3",
   "language": "python",
   "name": "python3"
  },
  "language_info": {
   "codemirror_mode": {
    "name": "ipython",
    "version": 3
   },
   "file_extension": ".py",
   "mimetype": "text/x-python",
   "name": "python",
   "nbconvert_exporter": "python",
   "pygments_lexer": "ipython3",
   "version": "3.6.8"
  }
 },
 "nbformat": 4,
 "nbformat_minor": 4
}
