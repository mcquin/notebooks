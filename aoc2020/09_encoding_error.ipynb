{
 "cells": [
  {
   "cell_type": "code",
   "execution_count": null,
   "metadata": {},
   "outputs": [],
   "source": [
    "PREAMBLE_LEN = 25"
   ]
  },
  {
   "cell_type": "code",
   "execution_count": null,
   "metadata": {},
   "outputs": [],
   "source": [
    "with open(\"data/09_stream.txt\", \"r\") as f:\n",
    "    stream = f.readlines()\n",
    "    \n",
    "stream = [int(line.strip()) for line in stream]\n",
    "stream[:5]"
   ]
  },
  {
   "cell_type": "code",
   "execution_count": null,
   "metadata": {},
   "outputs": [],
   "source": [
    "def find_error(stream):\n",
    "    for idx, val in enumerate(stream[PREAMBLE_LEN:]):\n",
    "        beg, end = idx, idx + PREAMBLE_LEN\n",
    "        if not find_pair(stream[beg:end], val):\n",
    "            return val"
   ]
  },
  {
   "cell_type": "code",
   "execution_count": null,
   "metadata": {},
   "outputs": [],
   "source": [
    "def find_pair(stream, val):\n",
    "    for i in range(len(stream) - 1):\n",
    "        xi = stream[i]\n",
    "        for j in range(i+1, len(stream)):\n",
    "            xj = stream[j]\n",
    "            if xi != xj and xi + xj == val:\n",
    "                return True\n",
    "    return False"
   ]
  },
  {
   "cell_type": "code",
   "execution_count": null,
   "metadata": {},
   "outputs": [],
   "source": [
    "error = find_error(stream)\n",
    "error"
   ]
  },
  {
   "cell_type": "code",
   "execution_count": null,
   "metadata": {},
   "outputs": [],
   "source": [
    "def find_weakness(stream, target): \n",
    "    head, tail = 0, 1\n",
    "    seq_sum = sum(stream[head:tail + 1])\n",
    "    \n",
    "    while seq_sum != target:\n",
    "        if seq_sum < target:\n",
    "            tail += 1\n",
    "            seq_sum += stream[tail]\n",
    "        else:\n",
    "            seq_sum -= stream[head]\n",
    "            head += 1\n",
    "            \n",
    "    smin, smax = float(\"inf\"), float(\"-inf\")\n",
    "    for val in stream[head:tail + 1]:\n",
    "        if val < smin:\n",
    "            smin = val\n",
    "        elif val > smax:\n",
    "            smax = val\n",
    "    \n",
    "    return smin + smax"
   ]
  },
  {
   "cell_type": "code",
   "execution_count": null,
   "metadata": {},
   "outputs": [],
   "source": [
    "find_weakness(stream, error)"
   ]
  }
 ],
 "metadata": {
  "kernelspec": {
   "display_name": "Python 3",
   "language": "python",
   "name": "python3"
  },
  "language_info": {
   "codemirror_mode": {
    "name": "ipython",
    "version": 3
   },
   "file_extension": ".py",
   "mimetype": "text/x-python",
   "name": "python",
   "nbconvert_exporter": "python",
   "pygments_lexer": "ipython3",
   "version": "3.6.8"
  }
 },
 "nbformat": 4,
 "nbformat_minor": 4
}
