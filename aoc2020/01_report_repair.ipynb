{
 "cells": [
  {
   "cell_type": "code",
   "execution_count": null,
   "metadata": {},
   "outputs": [],
   "source": [
    "with open(\"data/01A_expense_report.txt\", \"r\") as f:\n",
    "    data = f.readlines()\n",
    "\n",
    "data = [int(datum.strip()) for datum in data]"
   ]
  },
  {
   "cell_type": "code",
   "execution_count": null,
   "metadata": {},
   "outputs": [],
   "source": [
    "data.sort()"
   ]
  },
  {
   "cell_type": "code",
   "execution_count": null,
   "metadata": {},
   "outputs": [],
   "source": [
    "def find_pair_with_sum(arr, goal):\n",
    "    start, end = 0, len(arr) - 1\n",
    "    found = False\n",
    "    \n",
    "    while not found and start < end:\n",
    "        pair_sum = data[start] + data[end]\n",
    "        if pair_sum == goal:\n",
    "            found = True\n",
    "        elif pair_sum < goal:\n",
    "            start += 1\n",
    "        else:\n",
    "            end -= 1\n",
    "            \n",
    "    if not found:\n",
    "        return None\n",
    "    \n",
    "    return data[start], data[end]"
   ]
  },
  {
   "cell_type": "code",
   "execution_count": null,
   "metadata": {},
   "outputs": [],
   "source": [
    "x, y = find_pair_with_sum(data, 2020)\n",
    "x * y"
   ]
  },
  {
   "cell_type": "code",
   "execution_count": null,
   "metadata": {},
   "outputs": [],
   "source": [
    "for i in range(len(data)):\n",
    "    goal = 2020\n",
    "    pair_sum_goal = goal - data[i]\n",
    "    \n",
    "    pair_with_sum = find_pair_with_sum(data[i+1:], pair_sum_goal)\n",
    "    if pair_with_sum:\n",
    "        x, y = pair_with_sum\n",
    "        print(data[i] * x * y)\n",
    "        break"
   ]
  },
  {
   "cell_type": "code",
   "execution_count": null,
   "metadata": {},
   "outputs": [],
   "source": []
  }
 ],
 "metadata": {
  "kernelspec": {
   "display_name": "Python 3",
   "language": "python",
   "name": "python3"
  },
  "language_info": {
   "codemirror_mode": {
    "name": "ipython",
    "version": 3
   },
   "file_extension": ".py",
   "mimetype": "text/x-python",
   "name": "python",
   "nbconvert_exporter": "python",
   "pygments_lexer": "ipython3",
   "version": "3.6.8"
  }
 },
 "nbformat": 4,
 "nbformat_minor": 4
}
