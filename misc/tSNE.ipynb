{
 "cells": [
  {
   "cell_type": "code",
   "execution_count": null,
   "metadata": {
    "collapsed": true
   },
   "outputs": [],
   "source": [
    "%matplotlib inline"
   ]
  },
  {
   "cell_type": "code",
   "execution_count": null,
   "metadata": {
    "collapsed": true
   },
   "outputs": [],
   "source": [
    "FEATURES = \"data/features.npy\"  # Path to feature matrix (M, N)\n",
    "LABELS = \"data/labels.npy\"      # Path to labels, for visualization (M,)"
   ]
  },
  {
   "cell_type": "code",
   "execution_count": null,
   "metadata": {
    "collapsed": true
   },
   "outputs": [],
   "source": [
    "import numpy\n",
    "\n",
    "\n",
    "features = numpy.load(FEATURES)\n",
    "y = numpy.load(LABELS)"
   ]
  },
  {
   "cell_type": "markdown",
   "metadata": {},
   "source": [
    "## PCA"
   ]
  },
  {
   "cell_type": "code",
   "execution_count": null,
   "metadata": {
    "collapsed": true
   },
   "outputs": [],
   "source": [
    "N_COMPONENTS = 50     # Feature dimension after PCA\n",
    "SCALE = False         # Center and scale features before PCA, optional"
   ]
  },
  {
   "cell_type": "code",
   "execution_count": null,
   "metadata": {
    "collapsed": true
   },
   "outputs": [],
   "source": [
    "import sklearn.decomposition\n",
    "import sklearn.preprocessing\n",
    "\n",
    "\n",
    "pca = sklearn.decomposition.PCA(n_components=N_COMPONENTS, svd_solver=\"full\")\n",
    "\n",
    "if SCALE:\n",
    "    features_scaled = sklearn.preprocessing.scale(features)\n",
    "else:\n",
    "    features_scaled = features\n",
    "    \n",
    "pca.fit(features)\n",
    "\n",
    "features_pca = pca.transform(features)"
   ]
  },
  {
   "cell_type": "markdown",
   "metadata": {},
   "source": [
    "## tSNE"
   ]
  },
  {
   "cell_type": "code",
   "execution_count": null,
   "metadata": {
    "collapsed": true
   },
   "outputs": [],
   "source": [
    "# Parameters for tSNE. See documentation for details:\n",
    "#\n",
    "# http://scikit-learn.org/stable/modules/generated/sklearn.manifold.TSNE.html\n",
    "\n",
    "OPTIONS = {\n",
    "    \"init\": \"random\",\n",
    "    \"perplexity\": 30,\n",
    "    \"random_state\": numpy.random.randint(256),\n",
    "    \"verbose\": 2\n",
    "}"
   ]
  },
  {
   "cell_type": "code",
   "execution_count": null,
   "metadata": {
    "collapsed": true
   },
   "outputs": [],
   "source": [
    "from sklearn import manifold\n",
    "\n",
    "\n",
    "tsne = manifold.TSNE(**OPTIONS)\n",
    "\n",
    "%time X_embedded = tsne.fit_transform(features_pca)"
   ]
  },
  {
   "cell_type": "markdown",
   "metadata": {},
   "source": [
    "## Visualization with image overlays"
   ]
  },
  {
   "cell_type": "code",
   "execution_count": null,
   "metadata": {
    "collapsed": true
   },
   "outputs": [],
   "source": [
    "import matplotlib.offsetbox\n",
    "import matplotlib.pyplot\n",
    "import numpy\n",
    "import skimage.exposure\n",
    "import skimage.transform"
   ]
  },
  {
   "cell_type": "code",
   "execution_count": null,
   "metadata": {
    "collapsed": true
   },
   "outputs": [],
   "source": [
    "X = numpy.load(\"data/cells.npy\")\n",
    "classes = numpy.load(\"data/classes.npy\")\n",
    "subsets = numpy.load(\"data/subsets.npy\")"
   ]
  },
  {
   "cell_type": "code",
   "execution_count": null,
   "metadata": {
    "collapsed": true
   },
   "outputs": [],
   "source": [
    "# Scatter plot of a tSNE embedding.\n",
    "#\n",
    "# ax is the matplotlib axes for display.\n",
    "# X_embedded is the tSNE embedding.\n",
    "# y is a list of labels.\n",
    "#\n",
    "# alpha is the transparency of the plotted points in the range (0, 1) (default: 1.0).\n",
    "# cmap is a function that takes a label as a parameter and \n",
    "#      returns a color (default: matplotlib.cm.tab10).\n",
    "# labels is a list of label names, indexed by y, optional (default: None).\n",
    "# marker is the point style (https://matplotlib.org/api/markers_api.html#module-matplotlib.markers) (default: \"o\").\n",
    "# show_label is True enables a color-coded legend.\n",
    "def plot_tsne(ax, X_embedded, y, alpha=1.0, cmap=matplotlib.cm.tab10, labels=None, marker=\"o\", show_label=True):\n",
    "    for label in numpy.unique(y):        \n",
    "        ax.scatter(\n",
    "            X_embedded[y == label][:, 0],\n",
    "            X_embedded[y == label][:, 1],\n",
    "            alpha=alpha,\n",
    "            c=cmap(label),\n",
    "            label=(label if labels is None else labels[label]) if show_label else None,\n",
    "            marker=marker\n",
    "        )"
   ]
  },
  {
   "cell_type": "code",
   "execution_count": null,
   "metadata": {
    "collapsed": true
   },
   "outputs": [],
   "source": [
    "# Select images to overlay on a tSNE plot. The images are selected by \n",
    "# maximizing their Euclidean squareddistance in the embedding.\n",
    "#\n",
    "# X_embedded is the tSNE embedding.\n",
    "#\n",
    "# init_dist is the initial distance between two points. Recommended value is the\n",
    "#           maximum absolutely value of X_embedded (default: 12).\n",
    "# min_dist is the minimum distance between points for an image to be included\n",
    "#          in display. Smaller values result in more selected images (default: 10).\n",
    "# seed is the random seed used in initializing the image selection. If None, a\n",
    "#      random value is used.\n",
    "#\n",
    "# Returns a list of indices of points which are at least min_dist apart in\n",
    "# the embedded space.\n",
    "def sample(X_embedded, init_dist=12.0, min_dist=10.0, seed=None):\n",
    "    shown_images = numpy.array([[init_dist, init_dist]])\n",
    "    \n",
    "    indices = numpy.arange(X_embedded.shape[0])\n",
    "    \n",
    "    if seed is not None:\n",
    "        numpy.random.seed(seed)\n",
    "    \n",
    "    numpy.random.shuffle(indices)\n",
    "    \n",
    "    shown_indices = []\n",
    "    \n",
    "    for index in indices:\n",
    "        distance = numpy.sum((X_embedded[index] - shown_images) ** 2, 1)\n",
    "        \n",
    "        if numpy.min(distance) < min_dist:\n",
    "            continue\n",
    "            \n",
    "        shown_images = numpy.r_[shown_images, [X_embedded[index]]]\n",
    "\n",
    "        shown_indices += [index]\n",
    "    \n",
    "    return shown_indices"
   ]
  },
  {
   "cell_type": "code",
   "execution_count": null,
   "metadata": {
    "collapsed": true
   },
   "outputs": [],
   "source": [
    "# Display images at the position of their tSNE embedding.\n",
    "#\n",
    "# ax is the matplotlib axes for display.\n",
    "# X is a list of images.\n",
    "# y is a list of labels.\n",
    "# X_embedded is the tSNE embedding.\n",
    "#\n",
    "# cmap is a function that takes a label as a parameter and \n",
    "#      returns a color (default: matplotlib.cm.tab10).\n",
    "# processing_fn is a function which takes an image as input and\n",
    "#               returns an image as output.\n",
    "# scale is a fraction by which to scale the displayed images.\n",
    "#       Values less than 1.0 will downscale, greater than 1.0 will\n",
    "#       upscale (default: 0.5).\n",
    "def overlay(ax, X, y, X_embedded, cmap=matplotlib.cm.tab10, processing_fn=None, scale=0.5):\n",
    "    for Xi, yi, pos in zip(X, y, X_embedded):\n",
    "        if processing_fn:\n",
    "            Xi = processing_fn(Xi)\n",
    "        \n",
    "        # bboxprops: https://matplotlib.org/devdocs/api/_as_gen/matplotlib.patches.FancyBboxPatch.html\n",
    "        image_box = matplotlib.offsetbox.AnnotationBbox(\n",
    "            matplotlib.offsetbox.OffsetImage(\n",
    "                skimage.transform.rescale(Xi, scale=scale),\n",
    "            ),\n",
    "            pos,\n",
    "            bboxprops=dict(\n",
    "                edgecolor=cmap(yi),\n",
    "                linewidth=8\n",
    "            ),\n",
    "            pad=0\n",
    "        )\n",
    "\n",
    "        ax.add_artist(image_box)\n",
    "        \n",
    "\n",
    "# Convert a multi-channel image to RGB.\n",
    "#\n",
    "# img is a multi-channel floating point image.\n",
    "#\n",
    "# r is a list of channels in img to convert to \"red\" (default: [0]).\n",
    "# g is a list of channels in img to convert to \"green\" (default: [1]).\n",
    "# b is a list of channels in img to convert to \"blue\" (default: [2]).\n",
    "#\n",
    "# Multiple channels are combined by summing. The final image\n",
    "# is rescaled to the range (0, 1) for compatibility with display.\n",
    "# \n",
    "# E.g., to_rgb(x, r=[1, 4], g=[2, 3], b=[0])\n",
    "def to_rgb(img, r=[0], g=[1], b=[2]):\n",
    "    rgb_img = numpy.zeros(img.shape[:-1] + (3,), dtype=numpy.float32)\n",
    "    \n",
    "    rgb_img[:, :, 0] = numpy.sum(img[:, :, r], axis=-1)\n",
    "    rgb_img[:, :, 1] = numpy.sum(img[:, :, g], axis=-1)\n",
    "    rgb_img[:, :, 2] = numpy.sum(img[:, :, b], axis=-1)\n",
    "    \n",
    "    return skimage.exposure.rescale_intensity(rgb_img, out_range=(0, 1))"
   ]
  },
  {
   "cell_type": "code",
   "execution_count": null,
   "metadata": {},
   "outputs": [],
   "source": [
    "figure = matplotlib.pyplot.figure(figsize=(16, 16))\n",
    "\n",
    "ax = matplotlib.pyplot.axes(frameon=False)\n",
    "\n",
    "ax.set_xticks([])\n",
    "ax.set_yticks([])\n",
    "\n",
    "plot_tsne(ax, \n",
    "    X_embedded[subsets == \"o\"], \n",
    "    y[subsets == \"o\"], \n",
    "    labels=classes, \n",
    "    marker=\"o\"\n",
    ")\n",
    "\n",
    "plot_tsne(\n",
    "    ax, \n",
    "    X_embedded[subsets == \"^\"], \n",
    "    y[subsets == \"^\"], \n",
    "    alpha=0.5,\n",
    "    marker=\"o\", \n",
    "    show_label=False\n",
    ")\n",
    "\n",
    "ax.legend();  # use only if show_label is True for some plot_tsne\n",
    "\n",
    "# use only if image overlays are wanted\n",
    "samples = sample(X_embedded)\n",
    "\n",
    "overlay(\n",
    "    ax,\n",
    "    X[samples], \n",
    "    y[samples], \n",
    "    X_embedded[samples],\n",
    "    processing_fn=lambda x: to_rgb(x, r=[1, 4], g=[2, 3], b=[0])\n",
    ")"
   ]
  },
  {
   "cell_type": "code",
   "execution_count": null,
   "metadata": {
    "collapsed": true
   },
   "outputs": [],
   "source": []
  }
 ],
 "metadata": {
  "kernelspec": {
   "display_name": "Python 3",
   "language": "python",
   "name": "python3"
  },
  "language_info": {
   "codemirror_mode": {
    "name": "ipython",
    "version": 3
   },
   "file_extension": ".py",
   "mimetype": "text/x-python",
   "name": "python",
   "nbconvert_exporter": "python",
   "pygments_lexer": "ipython3",
   "version": "3.6.1"
  }
 },
 "nbformat": 4,
 "nbformat_minor": 2
}
