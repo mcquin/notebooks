{
 "cells": [
  {
   "cell_type": "code",
   "execution_count": 1,
   "metadata": {
    "collapsed": true,
    "deletable": true,
    "editable": true
   },
   "outputs": [],
   "source": [
    "%matplotlib inline"
   ]
  },
  {
   "cell_type": "code",
   "execution_count": 2,
   "metadata": {
    "collapsed": true,
    "deletable": true,
    "editable": true
   },
   "outputs": [],
   "source": [
    "import centrosome.haralick\n",
    "import mahotas\n",
    "import matplotlib.pyplot\n",
    "import numpy\n",
    "import skimage.io"
   ]
  },
  {
   "cell_type": "code",
   "execution_count": 3,
   "metadata": {
    "collapsed": false,
    "deletable": true,
    "editable": true
   },
   "outputs": [
    {
     "name": "stderr",
     "output_type": "stream",
     "text": [
      "/usr/local/Cellar/python/2.7.12/Frameworks/Python.framework/Versions/2.7/lib/python2.7/site-packages/skimage/io/_plugins/matplotlib_plugin.py:74: UserWarning: Low image data range; displaying image with stretched contrast.\n",
      "  warn(\"Low image data range; displaying image with \"\n"
     ]
    },
    {
     "data": {
      "text/plain": [
       "<matplotlib.image.AxesImage at 0x11065e2d0>"
      ]
     },
     "execution_count": 3,
     "metadata": {},
     "output_type": "execute_result"
    },
    {
     "data": {
      "image/png": "[encoded data removed]",
      "text/plain": [
       "<matplotlib.figure.Figure at 0x11058d890>"
      ]
     },
     "metadata": {},
     "output_type": "display_data"
    }
   ],
   "source": [
    "image, _ = numpy.mgrid[0:128, -64:64]\n",
    "\n",
    "labels = numpy.zeros_like(image, dtype=numpy.uint8)\n",
    "labels[32:96, 32:96] = 1\n",
    "\n",
    "label_data = numpy.zeros_like(image)\n",
    "label_data[labels == 1] = image[labels == 1]\n",
    "\n",
    "skimage.io.imshow(label_data)"
   ]
  },
  {
   "cell_type": "code",
   "execution_count": 4,
   "metadata": {
    "collapsed": true,
    "deletable": true,
    "editable": true
   },
   "outputs": [],
   "source": [
    "scale = 3"
   ]
  },
  {
   "cell_type": "code",
   "execution_count": 5,
   "metadata": {
    "collapsed": true,
    "deletable": true,
    "editable": true
   },
   "outputs": [],
   "source": [
    "# CellProfiler 2.0 equivalent\n",
    "h_horizontal = centrosome.haralick.Haralick(image, labels, 0, scale).all()"
   ]
  },
  {
   "cell_type": "code",
   "execution_count": 6,
   "metadata": {
    "collapsed": false,
    "deletable": true,
    "editable": true
   },
   "outputs": [],
   "source": [
    "# CellProfiler 3.0 equivalent\n",
    "h_mahotas = mahotas.features.haralick(label_data, distance=scale, ignore_zeros=True)\n",
    "h_mahotas_zeros = mahotas.features.haralick(label_data, distance=scale)"
   ]
  },
  {
   "cell_type": "code",
   "execution_count": 7,
   "metadata": {
    "collapsed": false,
    "deletable": true,
    "editable": true
   },
   "outputs": [
    {
     "data": {
      "text/plain": [
       "[array([ 0.125]),\n",
       " array([ 0.]),\n",
       " array([ 1.]),\n",
       " array([ 5.25]),\n",
       " array([ 1.]),\n",
       " array([ 9.]),\n",
       " array([ 21.]),\n",
       " array([ 2.07944154]),\n",
       " array([ 2.07944154]),\n",
       " array([ 0.]),\n",
       " array([ -2.22044605e-16]),\n",
       " array([-1.]),\n",
       " array([ 0.99215674])]"
      ]
     },
     "execution_count": 7,
     "metadata": {},
     "output_type": "execute_result"
    }
   ],
   "source": [
    "h_horizontal"
   ]
  },
  {
   "cell_type": "code",
   "execution_count": 8,
   "metadata": {
    "collapsed": false,
    "deletable": true,
    "editable": true
   },
   "outputs": [
    {
     "data": {
      "text/plain": [
       "array([  1.56250000e-02,   0.00000000e+00,   1.00000000e+00,\n",
       "         3.41250000e+02,   1.00000000e+00,   1.27000000e+02,\n",
       "         1.36500000e+03,   6.00000000e+00,   6.00000000e+00,\n",
       "         1.03081597e-02,  -0.00000000e+00,  -1.00000000e+00,\n",
       "         9.99996928e-01])"
      ]
     },
     "execution_count": 8,
     "metadata": {},
     "output_type": "execute_result"
    }
   ],
   "source": [
    "h_mahotas[0]  # this is close to h_horizontal, with a few exceptions (and order of magnitude)"
   ]
  },
  {
   "cell_type": "code",
   "execution_count": 9,
   "metadata": {
    "collapsed": false,
    "deletable": true,
    "editable": true
   },
   "outputs": [
    {
     "data": {
      "text/plain": [
       "array([  5.36758750e-01,   1.04964000e+02,   9.38643268e-01,\n",
       "         8.55358464e+02,   9.76007973e-01,   3.25120000e+01,\n",
       "         3.31646986e+03,   2.53400977e+00,   2.58715299e+00,\n",
       "         9.81425347e-03,   3.07345543e-01,  -9.02190461e-01,\n",
       "         9.92858730e-01])"
      ]
     },
     "execution_count": 9,
     "metadata": {},
     "output_type": "execute_result"
    }
   ],
   "source": [
    "h_mahotas_zeros[0]  # nope."
   ]
  },
  {
   "cell_type": "code",
   "execution_count": 10,
   "metadata": {
    "collapsed": true,
    "deletable": true,
    "editable": true
   },
   "outputs": [],
   "source": [
    "import numpy as np\n",
    "\n",
    "class Haralick2(centrosome.haralick.Haralick):\n",
    "    \"\"\"\n",
    "    Calculate the Haralick texture features.\n",
    "    Currently, the implementation uses nevels = 8 different grey\n",
    "    levels.\n",
    "    The original reference is: Haralick et al. (1973), Textural\n",
    "    Features for Image Classification, _IEEE Transaction on Systems\n",
    "    Man, Cybernetics_, SMC-3(6):610-621.  BEWARE: There are lots of\n",
    "    erroneous formulas for the Haralick features in the\n",
    "    literature.  There is also an error in the original paper.\n",
    "    \"\"\"\n",
    "    def __init__(self, image, labels, scale_i, scale_j, nlevels=8, mask=None):\n",
    "        \"\"\"\n",
    "        image   -- 2-D numpy array of 32-bit floating-point numbers.\n",
    "        labels  -- 2-D numpy array of integers.\n",
    "        scale   -- an integer.\n",
    "        nlevels -- an integer\n",
    "        \"\"\"\n",
    "        if mask is not None:\n",
    "            labels = labels.copy()\n",
    "            labels[~mask] = 0\n",
    "#         normalized = normalized_per_object(image, labels)\n",
    "#         quantized = centrosome.haralick.quantize(image, nlevels)\n",
    "        self.P,nlevels = centrosome.haralick.cooccurrence(image, labels, scale_i, scale_j)\n",
    "\n",
    "        self.nobjects = labels.max()\n",
    "        px = self.P.sum(2) # nobjects x nlevels\n",
    "        py = self.P.sum(1) # nobjects x nlevels\n",
    "        #\n",
    "        # Normalize px and py to deal with roundoff errors in sums\n",
    "        #\n",
    "        px = px / np.sum(px,1)[:,np.newaxis]\n",
    "        py = py / np.sum(py,1)[:,np.newaxis]\n",
    "        self.nlevels = nlevels\n",
    "        self.levels = np.arange(nlevels)\n",
    "        self.rlevels = np.tile(self.levels, (self.nobjects, 1))\n",
    "        self.levels2 = np.arange(2 * nlevels - 1)\n",
    "        self.rlevels2 = np.tile(self.levels2, (self.nobjects, 1))\n",
    "        self.mux = ((self.rlevels + 1) * px).sum(1)\n",
    "        mux = np.tile(self.mux, (nlevels,1)).transpose()\n",
    "        self.muy = ((self.rlevels + 1) * py).sum(1)\n",
    "        muy = np.tile(self.muy, (nlevels,1)).transpose()\n",
    "        self.sigmax = np.sqrt(((self.rlevels + 1 - mux) ** 2 * px).sum(1))\n",
    "        self.sigmay = np.sqrt(((self.rlevels + 1 - muy) ** 2 * py).sum(1))\n",
    "        eps = np.finfo(float).eps\n",
    "        self.hx = -(px * np.log(px + eps)).sum(1)\n",
    "        self.hy = -(py * np.log(py + eps)).sum(1)\n",
    "        pxpy = np.array([np.dot(px[i,:,np.newaxis], py[i,np.newaxis])\n",
    "                         for i in range(self.nobjects)]).reshape(self.P.shape)\n",
    "        self.hxy1 = -(self.P * np.log(pxpy + eps)).sum(2).sum(1)\n",
    "        self.hxy2 = -(pxpy * np.log(pxpy + eps)).sum(2).sum(1)\n",
    "        self.eps = eps\n",
    "\n",
    "        self.p_xplusy = np.zeros((self.nobjects, 2 * nlevels - 1))\n",
    "        self.p_xminusy = np.zeros((self.nobjects, nlevels))\n",
    "        for x in self.levels:\n",
    "            for y in self.levels:\n",
    "                self.p_xplusy[:, x + y] += self.P[:, x, y]\n",
    "                self.p_xminusy[:, np.abs(x - y)] += self.P[:, x, y]"
   ]
  },
  {
   "cell_type": "code",
   "execution_count": 11,
   "metadata": {
    "collapsed": false,
    "deletable": true,
    "editable": true
   },
   "outputs": [],
   "source": [
    "# remove the per-object normalization and discretization \n",
    "h2_horizontal = Haralick2(image, labels, 0, scale).all()"
   ]
  },
  {
   "cell_type": "code",
   "execution_count": 12,
   "metadata": {
    "collapsed": false,
    "deletable": true,
    "editable": true
   },
   "outputs": [
    {
     "data": {
      "text/plain": [
       "[array([ 0.015625]),\n",
       " array([ 0.]),\n",
       " array([ 1.]),\n",
       " array([ 341.25]),\n",
       " array([ 1.]),\n",
       " array([ 129.]),\n",
       " array([ 1365.]),\n",
       " array([ 4.15888308]),\n",
       " array([ 4.15888308]),\n",
       " array([ 0.]),\n",
       " array([ -2.22044605e-16]),\n",
       " array([-1.]),\n",
       " array([ 0.99987792])]"
      ]
     },
     "execution_count": 12,
     "metadata": {},
     "output_type": "execute_result"
    }
   ],
   "source": [
    "h2_horizontal"
   ]
  },
  {
   "cell_type": "code",
   "execution_count": 13,
   "metadata": {
    "collapsed": false,
    "deletable": true,
    "editable": true
   },
   "outputs": [
    {
     "data": {
      "text/plain": [
       "array([  1.56250000e-02,   0.00000000e+00,   1.00000000e+00,\n",
       "         3.41250000e+02,   1.00000000e+00,   1.27000000e+02,\n",
       "         1.36500000e+03,   6.00000000e+00,   6.00000000e+00,\n",
       "         1.03081597e-02,  -0.00000000e+00,  -1.00000000e+00,\n",
       "         9.99996928e-01])"
      ]
     },
     "execution_count": 13,
     "metadata": {},
     "output_type": "execute_result"
    }
   ],
   "source": [
    "h_mahotas[0]  # same order of magnitude, some disagreement"
   ]
  }
 ],
 "metadata": {
  "kernelspec": {
   "display_name": "Python 2",
   "language": "python",
   "name": "python2"
  },
  "language_info": {
   "codemirror_mode": {
    "name": "ipython",
    "version": 2
   },
   "file_extension": ".py",
   "mimetype": "text/x-python",
   "name": "python",
   "nbconvert_exporter": "python",
   "pygments_lexer": "ipython2",
   "version": "2.7.12"
  }
 },
 "nbformat": 4,
 "nbformat_minor": 2
}
